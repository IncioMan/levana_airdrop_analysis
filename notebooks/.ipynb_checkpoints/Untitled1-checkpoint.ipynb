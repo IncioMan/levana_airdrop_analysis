{
 "cells": [
  {
   "cell_type": "code",
   "execution_count": 1,
   "id": "0a431ece",
   "metadata": {},
   "outputs": [],
   "source": [
    "import pandas as pd\n",
    "import matplotlib\n",
    "pd.set_option('display.max_colwidth', None)"
   ]
  },
  {
   "cell_type": "code",
   "execution_count": 2,
   "id": "3eb2d2ef",
   "metadata": {},
   "outputs": [],
   "source": [
    "addr_amount = []\n",
    "for f in range(1,4):\n",
    "    df = pd.read_json(f'../data/levana_airdrop{f}.json')\n",
    "    for tx in df.data.address['txs']:\n",
    "        txhash = tx['txhash']\n",
    "        for message in tx['messages']:\n",
    "            if 'msg' in message['msg']['value']:\n",
    "                if 'transfer' in message['msg']['value']['msg']:\n",
    "                    for i in message['msg']['value']['msg']['transfer']['recipients']:\n",
    "                        addr_amount.append((txhash, i['addr'],int(i['coins'][0]['amount'])/1000000))"
   ]
  },
  {
   "cell_type": "code",
   "execution_count": 3,
   "id": "14cdc9e9",
   "metadata": {},
   "outputs": [],
   "source": [
    "df = pd.DataFrame(addr_amount, columns=['txhash','address','lvn'])"
   ]
  },
  {
   "cell_type": "code",
   "execution_count": 4,
   "id": "613cd513",
   "metadata": {},
   "outputs": [
    {
     "data": {
      "text/html": [
       "<div>\n",
       "<style scoped>\n",
       "    .dataframe tbody tr th:only-of-type {\n",
       "        vertical-align: middle;\n",
       "    }\n",
       "\n",
       "    .dataframe tbody tr th {\n",
       "        vertical-align: top;\n",
       "    }\n",
       "\n",
       "    .dataframe thead th {\n",
       "        text-align: right;\n",
       "    }\n",
       "</style>\n",
       "<table border=\"1\" class=\"dataframe\">\n",
       "  <thead>\n",
       "    <tr style=\"text-align: right;\">\n",
       "      <th></th>\n",
       "      <th>txhash</th>\n",
       "      <th>address</th>\n",
       "      <th>lvn</th>\n",
       "    </tr>\n",
       "  </thead>\n",
       "  <tbody>\n",
       "    <tr>\n",
       "      <th>2895</th>\n",
       "      <td>0BE8E1D96AFD801D31C23A161E660172F35B95D6242C1505FB658A1406BF9255</td>\n",
       "      <td>osmo1apj9cr7h9pgllcs0jw8ny0m33n86snd50yzh7f</td>\n",
       "      <td>0.038865</td>\n",
       "    </tr>\n",
       "    <tr>\n",
       "      <th>2869</th>\n",
       "      <td>0BE8E1D96AFD801D31C23A161E660172F35B95D6242C1505FB658A1406BF9255</td>\n",
       "      <td>osmo1a90s8ryjz95ssxzpvl4ltujptj89594xd722al</td>\n",
       "      <td>0.038865</td>\n",
       "    </tr>\n",
       "    <tr>\n",
       "      <th>2868</th>\n",
       "      <td>0BE8E1D96AFD801D31C23A161E660172F35B95D6242C1505FB658A1406BF9255</td>\n",
       "      <td>osmo189mvejd5kcsnw6nd4wsfkerqm0vzn5wgv59dpf</td>\n",
       "      <td>0.038865</td>\n",
       "    </tr>\n",
       "    <tr>\n",
       "      <th>2867</th>\n",
       "      <td>0BE8E1D96AFD801D31C23A161E660172F35B95D6242C1505FB658A1406BF9255</td>\n",
       "      <td>osmo1qws9m4zmf484rkhhmp6uq26rupdvdavjyk68d7</td>\n",
       "      <td>0.038865</td>\n",
       "    </tr>\n",
       "    <tr>\n",
       "      <th>2866</th>\n",
       "      <td>0BE8E1D96AFD801D31C23A161E660172F35B95D6242C1505FB658A1406BF9255</td>\n",
       "      <td>osmo1na3xkktpzgq8fy5nj9xhk2skmd7pwnuedkjhkg</td>\n",
       "      <td>0.038865</td>\n",
       "    </tr>\n",
       "    <tr>\n",
       "      <th>...</th>\n",
       "      <td>...</td>\n",
       "      <td>...</td>\n",
       "      <td>...</td>\n",
       "    </tr>\n",
       "    <tr>\n",
       "      <th>26</th>\n",
       "      <td>EEBFD3D5A0933D19E9E2AEF72591BA759E7C87F9BE3EAB30D6A850EAB80B612A</td>\n",
       "      <td>osmo1szce6wx7gg3884nt0mkehtx6j79kl22lmxxeha</td>\n",
       "      <td>120000.000000</td>\n",
       "    </tr>\n",
       "    <tr>\n",
       "      <th>34</th>\n",
       "      <td>EEBFD3D5A0933D19E9E2AEF72591BA759E7C87F9BE3EAB30D6A850EAB80B612A</td>\n",
       "      <td>osmo1gqn56ztqjjff5v4h4335n7djnd7knqvprs54cy</td>\n",
       "      <td>124964.467792</td>\n",
       "    </tr>\n",
       "    <tr>\n",
       "      <th>37</th>\n",
       "      <td>EEBFD3D5A0933D19E9E2AEF72591BA759E7C87F9BE3EAB30D6A850EAB80B612A</td>\n",
       "      <td>osmo1zqztj8manrpanh4mlzuscqxxq7srq6rxtzeus0</td>\n",
       "      <td>380190.674870</td>\n",
       "    </tr>\n",
       "    <tr>\n",
       "      <th>1</th>\n",
       "      <td>EEBFD3D5A0933D19E9E2AEF72591BA759E7C87F9BE3EAB30D6A850EAB80B612A</td>\n",
       "      <td>osmo17d34cxnqdyh26mmahnz856m66z2vaxwhfu2vjn</td>\n",
       "      <td>736475.438520</td>\n",
       "    </tr>\n",
       "    <tr>\n",
       "      <th>45</th>\n",
       "      <td>EEBFD3D5A0933D19E9E2AEF72591BA759E7C87F9BE3EAB30D6A850EAB80B612A</td>\n",
       "      <td>osmo1qfv9lka8kxtumxj0drrqsxkqug40nfmm0p3jne</td>\n",
       "      <td>835951.737151</td>\n",
       "    </tr>\n",
       "  </tbody>\n",
       "</table>\n",
       "<p>2896 rows × 3 columns</p>\n",
       "</div>"
      ],
      "text/plain": [
       "                                                                txhash  \\\n",
       "2895  0BE8E1D96AFD801D31C23A161E660172F35B95D6242C1505FB658A1406BF9255   \n",
       "2869  0BE8E1D96AFD801D31C23A161E660172F35B95D6242C1505FB658A1406BF9255   \n",
       "2868  0BE8E1D96AFD801D31C23A161E660172F35B95D6242C1505FB658A1406BF9255   \n",
       "2867  0BE8E1D96AFD801D31C23A161E660172F35B95D6242C1505FB658A1406BF9255   \n",
       "2866  0BE8E1D96AFD801D31C23A161E660172F35B95D6242C1505FB658A1406BF9255   \n",
       "...                                                                ...   \n",
       "26    EEBFD3D5A0933D19E9E2AEF72591BA759E7C87F9BE3EAB30D6A850EAB80B612A   \n",
       "34    EEBFD3D5A0933D19E9E2AEF72591BA759E7C87F9BE3EAB30D6A850EAB80B612A   \n",
       "37    EEBFD3D5A0933D19E9E2AEF72591BA759E7C87F9BE3EAB30D6A850EAB80B612A   \n",
       "1     EEBFD3D5A0933D19E9E2AEF72591BA759E7C87F9BE3EAB30D6A850EAB80B612A   \n",
       "45    EEBFD3D5A0933D19E9E2AEF72591BA759E7C87F9BE3EAB30D6A850EAB80B612A   \n",
       "\n",
       "                                          address            lvn  \n",
       "2895  osmo1apj9cr7h9pgllcs0jw8ny0m33n86snd50yzh7f       0.038865  \n",
       "2869  osmo1a90s8ryjz95ssxzpvl4ltujptj89594xd722al       0.038865  \n",
       "2868  osmo189mvejd5kcsnw6nd4wsfkerqm0vzn5wgv59dpf       0.038865  \n",
       "2867  osmo1qws9m4zmf484rkhhmp6uq26rupdvdavjyk68d7       0.038865  \n",
       "2866  osmo1na3xkktpzgq8fy5nj9xhk2skmd7pwnuedkjhkg       0.038865  \n",
       "...                                           ...            ...  \n",
       "26    osmo1szce6wx7gg3884nt0mkehtx6j79kl22lmxxeha  120000.000000  \n",
       "34    osmo1gqn56ztqjjff5v4h4335n7djnd7knqvprs54cy  124964.467792  \n",
       "37    osmo1zqztj8manrpanh4mlzuscqxxq7srq6rxtzeus0  380190.674870  \n",
       "1     osmo17d34cxnqdyh26mmahnz856m66z2vaxwhfu2vjn  736475.438520  \n",
       "45    osmo1qfv9lka8kxtumxj0drrqsxkqug40nfmm0p3jne  835951.737151  \n",
       "\n",
       "[2896 rows x 3 columns]"
      ]
     },
     "execution_count": 4,
     "metadata": {},
     "output_type": "execute_result"
    }
   ],
   "source": [
    "df.sort_values('lvn')"
   ]
  },
  {
   "cell_type": "code",
   "execution_count": 32,
   "id": "562c871f",
   "metadata": {},
   "outputs": [
    {
     "data": {
      "text/plain": [
       "2896"
      ]
     },
     "execution_count": 32,
     "metadata": {},
     "output_type": "execute_result"
    }
   ],
   "source": [
    "df.address.nunique()"
   ]
  },
  {
   "cell_type": "code",
   "execution_count": 5,
   "id": "fd4f3e48",
   "metadata": {},
   "outputs": [
    {
     "data": {
      "text/plain": [
       "10311941.0152"
      ]
     },
     "execution_count": 5,
     "metadata": {},
     "output_type": "execute_result"
    }
   ],
   "source": [
    "df['lvn'].sum()"
   ]
  },
  {
   "cell_type": "code",
   "execution_count": 6,
   "id": "bd4668aa",
   "metadata": {},
   "outputs": [
    {
     "data": {
      "text/html": [
       "<div>\n",
       "<style scoped>\n",
       "    .dataframe tbody tr th:only-of-type {\n",
       "        vertical-align: middle;\n",
       "    }\n",
       "\n",
       "    .dataframe tbody tr th {\n",
       "        vertical-align: top;\n",
       "    }\n",
       "\n",
       "    .dataframe thead th {\n",
       "        text-align: right;\n",
       "    }\n",
       "</style>\n",
       "<table border=\"1\" class=\"dataframe\">\n",
       "  <thead>\n",
       "    <tr style=\"text-align: right;\">\n",
       "      <th></th>\n",
       "      <th>lvn</th>\n",
       "    </tr>\n",
       "  </thead>\n",
       "  <tbody>\n",
       "    <tr>\n",
       "      <th>count</th>\n",
       "      <td>2896.000000</td>\n",
       "    </tr>\n",
       "    <tr>\n",
       "      <th>mean</th>\n",
       "      <td>3560.753113</td>\n",
       "    </tr>\n",
       "    <tr>\n",
       "      <th>std</th>\n",
       "      <td>23455.840882</td>\n",
       "    </tr>\n",
       "    <tr>\n",
       "      <th>min</th>\n",
       "      <td>0.038865</td>\n",
       "    </tr>\n",
       "    <tr>\n",
       "      <th>25%</th>\n",
       "      <td>182.740392</td>\n",
       "    </tr>\n",
       "    <tr>\n",
       "      <th>50%</th>\n",
       "      <td>656.145861</td>\n",
       "    </tr>\n",
       "    <tr>\n",
       "      <th>75%</th>\n",
       "      <td>2329.976330</td>\n",
       "    </tr>\n",
       "    <tr>\n",
       "      <th>max</th>\n",
       "      <td>835951.737151</td>\n",
       "    </tr>\n",
       "  </tbody>\n",
       "</table>\n",
       "</div>"
      ],
      "text/plain": [
       "                 lvn\n",
       "count    2896.000000\n",
       "mean     3560.753113\n",
       "std     23455.840882\n",
       "min         0.038865\n",
       "25%       182.740392\n",
       "50%       656.145861\n",
       "75%      2329.976330\n",
       "max    835951.737151"
      ]
     },
     "execution_count": 6,
     "metadata": {},
     "output_type": "execute_result"
    }
   ],
   "source": [
    "df.describe()"
   ]
  },
  {
   "cell_type": "code",
   "execution_count": 22,
   "id": "6c8752f1",
   "metadata": {},
   "outputs": [
    {
     "data": {
      "text/plain": [
       "<Axes: xlabel='Amount of LVN'>"
      ]
     },
     "execution_count": 22,
     "metadata": {},
     "output_type": "execute_result"
    },
    {
     "data": {
      "image/png": "[encoded data removed]",
      "text/plain": [
       "<Figure size 640x480 with 1 Axes>"
      ]
     },
     "metadata": {},
     "output_type": "display_data"
    }
   ],
   "source": [
    "bins = [0, 100, 1000, 10000, 100000, float('inf')]  # Add float('inf') to include all values above 150\n",
    "\n",
    "# Create bins and count values in each bin\n",
    "bin_labels = ['0-100', '100-1000', '1000-10k', '10k-100k','100k-']  # Labels for the bins\n",
    "df['lvn_bin'] = pd.cut(df['lvn'], bins=bins, labels=bin_labels, right=False)\n",
    "\n",
    "# Count the number of rows in each bin\n",
    "bin_counts = df['lvn_bin'].value_counts().reset_index()\n",
    "bin_counts.columns = ['Amount of LVN', 'count']\n",
    "\n",
    "# Print the counts\n",
    "bin_counts.set_index('Amount of LVN').sort_index().plot(kind='bar', rot=0)"
   ]
  },
  {
   "cell_type": "code",
   "execution_count": 33,
   "id": "b7a4b267",
   "metadata": {},
   "outputs": [
    {
     "data": {
      "text/html": [
       "<div>\n",
       "<style scoped>\n",
       "    .dataframe tbody tr th:only-of-type {\n",
       "        vertical-align: middle;\n",
       "    }\n",
       "\n",
       "    .dataframe tbody tr th {\n",
       "        vertical-align: top;\n",
       "    }\n",
       "\n",
       "    .dataframe thead th {\n",
       "        text-align: right;\n",
       "    }\n",
       "</style>\n",
       "<table border=\"1\" class=\"dataframe\">\n",
       "  <thead>\n",
       "    <tr style=\"text-align: right;\">\n",
       "      <th></th>\n",
       "      <th>Amount of LVN</th>\n",
       "      <th>count</th>\n",
       "    </tr>\n",
       "  </thead>\n",
       "  <tbody>\n",
       "    <tr>\n",
       "      <th>0</th>\n",
       "      <td>100-1000</td>\n",
       "      <td>1418</td>\n",
       "    </tr>\n",
       "    <tr>\n",
       "      <th>1</th>\n",
       "      <td>1000-10k</td>\n",
       "      <td>1092</td>\n",
       "    </tr>\n",
       "    <tr>\n",
       "      <th>2</th>\n",
       "      <td>0-100</td>\n",
       "      <td>258</td>\n",
       "    </tr>\n",
       "    <tr>\n",
       "      <th>3</th>\n",
       "      <td>10k-100k</td>\n",
       "      <td>119</td>\n",
       "    </tr>\n",
       "    <tr>\n",
       "      <th>4</th>\n",
       "      <td>100k-</td>\n",
       "      <td>9</td>\n",
       "    </tr>\n",
       "  </tbody>\n",
       "</table>\n",
       "</div>"
      ],
      "text/plain": [
       "  Amount of LVN  count\n",
       "0      100-1000   1418\n",
       "1      1000-10k   1092\n",
       "2         0-100    258\n",
       "3      10k-100k    119\n",
       "4         100k-      9"
      ]
     },
     "execution_count": 33,
     "metadata": {},
     "output_type": "execute_result"
    }
   ],
   "source": [
    "bin_counts"
   ]
  },
  {
   "cell_type": "code",
   "execution_count": 48,
   "id": "20d30bdd",
   "metadata": {},
   "outputs": [],
   "source": [
    "df['Amount of LVN receivied'] = df['lvn'].apply(lambda x: int(x))"
   ]
  },
  {
   "cell_type": "code",
   "execution_count": 49,
   "id": "45cc7b88",
   "metadata": {},
   "outputs": [],
   "source": [
    "top = df.sort_values('lvn', ascending=False).head(9)"
   ]
  },
  {
   "cell_type": "code",
   "execution_count": 50,
   "id": "cf19c10c",
   "metadata": {},
   "outputs": [
    {
     "data": {
      "text/html": [
       "<div>\n",
       "<style scoped>\n",
       "    .dataframe tbody tr th:only-of-type {\n",
       "        vertical-align: middle;\n",
       "    }\n",
       "\n",
       "    .dataframe tbody tr th {\n",
       "        vertical-align: top;\n",
       "    }\n",
       "\n",
       "    .dataframe thead th {\n",
       "        text-align: right;\n",
       "    }\n",
       "</style>\n",
       "<table border=\"1\" class=\"dataframe\">\n",
       "  <thead>\n",
       "    <tr style=\"text-align: right;\">\n",
       "      <th></th>\n",
       "      <th>address</th>\n",
       "      <th>Amount of LVN receivied</th>\n",
       "    </tr>\n",
       "  </thead>\n",
       "  <tbody>\n",
       "    <tr>\n",
       "      <th>0</th>\n",
       "      <td>osmo1qfv9lka8kxtumxj0drrqsxkqug40nfmm0p3jne</td>\n",
       "      <td>835951</td>\n",
       "    </tr>\n",
       "    <tr>\n",
       "      <th>1</th>\n",
       "      <td>osmo17d34cxnqdyh26mmahnz856m66z2vaxwhfu2vjn</td>\n",
       "      <td>736475</td>\n",
       "    </tr>\n",
       "    <tr>\n",
       "      <th>2</th>\n",
       "      <td>osmo1zqztj8manrpanh4mlzuscqxxq7srq6rxtzeus0</td>\n",
       "      <td>380190</td>\n",
       "    </tr>\n",
       "    <tr>\n",
       "      <th>3</th>\n",
       "      <td>osmo1gqn56ztqjjff5v4h4335n7djnd7knqvprs54cy</td>\n",
       "      <td>124964</td>\n",
       "    </tr>\n",
       "    <tr>\n",
       "      <th>4</th>\n",
       "      <td>osmo1szce6wx7gg3884nt0mkehtx6j79kl22lmxxeha</td>\n",
       "      <td>120000</td>\n",
       "    </tr>\n",
       "    <tr>\n",
       "      <th>5</th>\n",
       "      <td>osmo1rq98esw4lgcekya6yyksktrppcwe2hhcpgm68v</td>\n",
       "      <td>119992</td>\n",
       "    </tr>\n",
       "    <tr>\n",
       "      <th>6</th>\n",
       "      <td>osmo13744ecfwf85knq8l3u3zt9ctg52q9n42ss3drg</td>\n",
       "      <td>119080</td>\n",
       "    </tr>\n",
       "    <tr>\n",
       "      <th>7</th>\n",
       "      <td>osmo1tkvp6yhem77f5cz39yyxhw422tm4qcu53gre5w</td>\n",
       "      <td>100946</td>\n",
       "    </tr>\n",
       "    <tr>\n",
       "      <th>8</th>\n",
       "      <td>osmo14y4jfkpvga84w88wm6lget9c6fv4gcxjxc5ens</td>\n",
       "      <td>100352</td>\n",
       "    </tr>\n",
       "  </tbody>\n",
       "</table>\n",
       "</div>"
      ],
      "text/plain": [
       "                                       address  Amount of LVN receivied\n",
       "0  osmo1qfv9lka8kxtumxj0drrqsxkqug40nfmm0p3jne                   835951\n",
       "1  osmo17d34cxnqdyh26mmahnz856m66z2vaxwhfu2vjn                   736475\n",
       "2  osmo1zqztj8manrpanh4mlzuscqxxq7srq6rxtzeus0                   380190\n",
       "3  osmo1gqn56ztqjjff5v4h4335n7djnd7knqvprs54cy                   124964\n",
       "4  osmo1szce6wx7gg3884nt0mkehtx6j79kl22lmxxeha                   120000\n",
       "5  osmo1rq98esw4lgcekya6yyksktrppcwe2hhcpgm68v                   119992\n",
       "6  osmo13744ecfwf85knq8l3u3zt9ctg52q9n42ss3drg                   119080\n",
       "7  osmo1tkvp6yhem77f5cz39yyxhw422tm4qcu53gre5w                   100946\n",
       "8  osmo14y4jfkpvga84w88wm6lget9c6fv4gcxjxc5ens                   100352"
      ]
     },
     "execution_count": 50,
     "metadata": {},
     "output_type": "execute_result"
    }
   ],
   "source": [
    "top.reset_index()[['address','Amount of LVN receivied']]"
   ]
  },
  {
   "cell_type": "code",
   "execution_count": 40,
   "id": "6d351a2a",
   "metadata": {},
   "outputs": [
    {
     "data": {
      "text/plain": [
       "15.248605217516392"
      ]
     },
     "execution_count": 40,
     "metadata": {},
     "output_type": "execute_result"
    }
   ],
   "source": [
    "top['lvn'].sum()/df['lvn'].sum()*100"
   ]
  },
  {
   "cell_type": "code",
   "execution_count": null,
   "id": "fbe9adb4",
   "metadata": {},
   "outputs": [],
   "source": []
  }
 ],
 "metadata": {
  "kernelspec": {
   "display_name": "Python 3 (ipykernel)",
   "language": "python",
   "name": "python3"
  },
  "language_info": {
   "codemirror_mode": {
    "name": "ipython",
    "version": 3
   },
   "file_extension": ".py",
   "mimetype": "text/x-python",
   "name": "python",
   "nbconvert_exporter": "python",
   "pygments_lexer": "ipython3",
   "version": "3.9.13"
  }
 },
 "nbformat": 4,
 "nbformat_minor": 5
}
